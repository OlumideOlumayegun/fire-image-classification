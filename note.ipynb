{
 "cells": [
  {
   "cell_type": "markdown",
   "metadata": {},
   "source": [
    "Followed project template from \"End to end Deep Learning Project Implementation using MLOps Tool MLflow & DVC with CICD Deployment (Chest Cancer Clasification)\" - https://www.youtube.com/watch?v=-NOIWzjJK-4"
   ]
  },
  {
   "cell_type": "markdown",
   "metadata": {},
   "source": [
    "## Initial set up\n",
    "+ Create github repo: fire-image-classification\n",
    "+ Clone repo into local machine\n",
    "+ Update template.py to create project folder structure\n",
    "+ Run `python template.py` to create the directories and files\n",
    "+ Add `venv`, `artifacts/*` and `note.ipynb` to .gitignore before git push to remote to avoid pushing large artifact dataset to github.\n",
    "+ Git add, commit and push origin main, do this at regular interval\n",
    "+ Set up logging in src/__init__.py file\n",
    "+ Create util functions in src/fire_image_classifier/utils/common.py file\t\n",
    "+ Set up and configure pyproject.toml for packaging and distribution\n",
    "+ Create and activate virtual environment and upgrade pip:\n",
    "```\n",
    "    $ python -m venv venv --prompt fire-image\n",
    "    $ venv\\Scripts\\activate\n",
    "    $ python -m pip install --upgrade pip\n",
    "```\n",
    "+ check installed packages: \n",
    "```\n",
    "    $ pip list –local (or pip freeze)\n",
    "```"
   ]
  },
  {
   "cell_type": "markdown",
   "metadata": {},
   "source": [
    "+ Installed package in editable mode and install dependencies\n",
    "```\n",
    "    $ python -m pip install --editable .\n",
    "```\n",
    "+ Feeze dependencies and version into contraints.txt, exclude editable package from the constraints file\n",
    "```\n",
    "    $ python -m pip freeze --exclude-editable > constraints.txt\n",
    "```\n",
    "\n"
   ]
  },
  {
   "cell_type": "markdown",
   "metadata": {},
   "source": [
    "## General workflow to follow at each stage:\n",
    "+ Update config.yaml\n",
    "+ Update secrets.yaml [Optional]\n",
    "+ Update params.yaml\n",
    "+ Update the entity\n",
    "+ Update the configuration manager in src config\n",
    "+ Update the components\n",
    "+ Update the pipeline\n",
    "+ Update the main.py\n",
    "+ Update the dvc.yaml"
   ]
  },
  {
   "cell_type": "markdown",
   "metadata": {},
   "source": [
    "## MLflow\n",
    "\n",
    "- [Documentation](https://mlflow.org/docs/latest/index.html)\n",
    "\n",
    "- [MLflow tutorial](https://youtube.com/playlist?list=PLkz_y24mlSJZrqiZ4_cLUiP0CBN5wFmTb&si=zEp_C8zLHt1DzWKK)\n",
    "\n",
    "##### cmd\n",
    "- mlflow ui\n",
    "\n",
    "## dagshub\n",
    "[dagshub](https://dagshub.com/)\n",
    "\n",
    "\n",
    "## DVC cmd\n",
    "\n",
    "1. dvc init\n",
    "2. dvc repro\n",
    "3. dvc dag\n",
    "\n",
    "## About MLflow & DVC\n",
    "\n",
    "MLflow\n",
    "\n",
    " - Its Production Grade\n",
    " - Trace all of your expriements\n",
    " - Logging & taging your model\n",
    "\n",
    "\n",
    "DVC \n",
    "\n",
    " - Its very lite weight for POC only\n",
    " - lite weight expriements tracker\n",
    " - It can perform Orchestration (Creating Pipelines)"
   ]
  },
  {
   "cell_type": "markdown",
   "metadata": {},
   "source": [
    "## Stage 1: Data ingestion\n",
    "+ Create and update research/01_data_ingestion.ipynb experiment notebook\n",
    "+ Update src/fire_image_classifier/conf/config.yaml file with data ingestion configuration\n",
    "+ Update entity (src/fire_image_classifier/entity/config_entity.py). Ignore sectret.yaml and params.yaml for now\n",
    "+ Update src/fire_image_classifier/constants/__init__.py with information about path to config.yaml and params.yaml files (put dummy key value in params.yaml)\n",
    "+ Update the configuration manager in /src/fire_image_classifier/config/configuration.py\n",
    "+ Update the data ingestion components (src/fire_image_classifier/components/data_ingestion.py)\n",
    "+ Update the pipeline (src/fire_image_classifier/pipeline/stage_01_data_ingestion.py)\n",
    "+ Update main.py\n",
    "+ Ignore updating dvc.yaml for now"
   ]
  },
  {
   "cell_type": "markdown",
   "metadata": {},
   "source": [
    "## Stage 2: Prepare base model\n",
    "+ Create and start updating experiment notebook (research/02_base_model_development.ipynb)\n",
    "+ Update src/fire_image_classifier/params.yaml\n",
    "+ Update src/fire_image_classifier/conf/config.yaml file with base model configuration\n",
    "+ Update entity (src/fire_image_classifier//entity/config_entity.py) with prepare callback entity\n",
    "+ Update the configuration manager in src/fire_image_classifier//config/configuration.py\n",
    "+ Update the prepare base model components (src/fire_image_classifier/components/prepare_base_model.py)\n",
    "+ Update the pipeline (src/fire_image_classifier/r/pipeline/stage_02_prepare_base_model.py)\n",
    "+ Update main.py with prepare base model"
   ]
  },
  {
   "cell_type": "markdown",
   "metadata": {},
   "source": [
    "## Stage 3: Training\n",
    "- Create and start updating experiment notebook (research/03_model_training.ipynb)\n",
    "- Update src/fire_image_classifier/config/config.yaml file with training configuration\n",
    "- Update entity (src/fire_image_classifier/entity/config_entity.py) with training entity\n",
    "- Update the configuration manager in src/fire_image_classifier/config/configuration.py \n",
    "- Update the training components (src/fire_image_classifier/components/model_trainer.py)\n",
    "- Update the pipeline (src/fire_image_classifier/pipeline/stage_03_model_trainer.py)\n",
    "- Update src/fire_image_classifier/main.py with training model\n",
    "- To check tensorboard log, run this in console: tensorboard --logdir artifacts/prepare_callbacks/tensorboard_log_dir"
   ]
  },
  {
   "cell_type": "markdown",
   "metadata": {},
   "source": [
    "## Stage 5: Evaluation and MlFlow Integration\n",
    "- Create and start updating experiment notebook (research/05_model_evaluation_with_mlflow.ipynb)\n",
    "- Login to Dagshub using Github account (https://dagshub.com)\n",
    "- Click on **Create** and select **Connect a repository** to connect to the github repo\n",
    "- Under remote > Experiments, copy mlflow tracking code and click **Go to mlflow UI**\n",
    "- Authenticate login to dagshub when promted"
   ]
  },
  {
   "cell_type": "markdown",
   "metadata": {},
   "source": [
    "```python\n",
    "import dagshub\n",
    "dagshub.init(repo_owner='OlumideOlumayegun', repo_name='fire-image-classification', mlflow=True)\n",
    "\n",
    "import mlflow\n",
    "with mlflow.start_run():\n",
    "  mlflow.log_param('parameter name', 'value')\n",
    "  mlflow.log_metric('metric name', 1)\n",
    "```"
   ]
  },
  {
   "cell_type": "markdown",
   "metadata": {},
   "source": [
    "- Update entity (src/fire_image_classifier/entity/config_entity.py) with model evaluation entity\n",
    "- Update the configuration manager in src/fire_image_classifier/config/configuration.py \n",
    "- Update the model evaluation components (src/fire_image_classifier/components/model_evaluation_mlflow.py)\n",
    "- Update the pipeline (src/fire_image_classifier/pipeline/stage_04_model_evaluation.py)\n",
    "- Update src/fire_image_classifier/main.py with model evaluation\n",
    "- Test by running “python src\\fire_image_classifier\\main.py” in terminal"
   ]
  },
  {
   "cell_type": "markdown",
   "metadata": {},
   "source": [
    "## Write dvc.yaml file\n",
    "- Update the dvc.yaml file\n",
    "- Initialise dvc in terminal by running “dvc init”\n",
    "- Execute “dvc repro” in terminal to run pipeline stages\n",
    "- Execute “dvc dag” to see the graph of the pipeline\n",
    "- Learn more about dvc: https://dvc.org/doc"
   ]
  },
  {
   "cell_type": "markdown",
   "metadata": {},
   "source": [
    "## Write prediction pipeline and web app\n",
    "- Update the pipeline (src/fire_image_classifier/pipeline/predict.py)\n",
    "- Write the src/fire_image_classifier/app.py file for creating the web app\n",
    "- Write the html file src/fire_image_classifier/templates/index.html (use sample html codes from boostrap: https://getbootstrap.com/docs/5.3/examples/)\n",
    "- Execute “python src\\fire_image_classifier\\app.py” in terminal\n",
    "- Access at localhost:8080 (localhost:8080/train to train the model)"
   ]
  },
  {
   "cell_type": "markdown",
   "metadata": {},
   "source": [
    "## Azure CI/CD with Github Actions"
   ]
  },
  {
   "cell_type": "markdown",
   "metadata": {},
   "source": [
    "#### Prepare code for deployment\n",
    "- Write the Dockerfile\n",
    "  + [Use realpython example](https://realpython.com/docker-continuous-integration/)"
   ]
  },
  {
   "cell_type": "markdown",
   "metadata": {},
   "source": [
    "#### Create azure container registry\n",
    "* Login to azure portal\n",
    "* Search for container registry\n",
    "* Create container registry\n",
    "* Go to resource\n",
    "* Go to Settings>Access keys (copy login server: olumide01.azurecr.io)\n",
    "* Activate **Admin user\" and copy password: Zg+3L7r/v37JEb3629chib5eZLVi/kP17eN8QykvVn+ACRDgzsT+"
   ]
  },
  {
   "cell_type": "markdown",
   "metadata": {},
   "source": [
    "#### Build docker image and push to azure container registry\n",
    "* Run the `docker build`, `docker login` and `docker push` shown below from your terminal (git bash, cmd or powershell, make sure docker desktop is running)\n",
    "* Supply docker login credentials:\n",
    "  * Username: olumide01\n",
    "  * Password: vIYbArH/wneZJqcGe7E5HUmVKY21fcvKTXdVjPIRa2+ACRCN8oow"
   ]
  },
  {
   "cell_type": "markdown",
   "metadata": {},
   "source": [
    "##### Run from terminal:\n",
    "  ```\n",
    "  docker build -t olumide01.azurecr.io/fireapp01:latest .\n",
    "\n",
    "  docker login olumide01.azurecr.io\n",
    "\n",
    "  docker push olumide01.azurecr.io/fireapp01:latest\n",
    "```"
   ]
  },
  {
   "cell_type": "markdown",
   "metadata": {},
   "source": [
    "#### Create azure web app \n",
    "* Login to azure portal\n",
    "* Search **\"Web App for Container\"** and create web app in azure portal\n",
    "* In **Container** tab: \n",
    "    + Image Source>Azure Container Registry\n",
    "    + Registry>olumide01\n",
    "    + Image>fireapp\n",
    "    + Tag>latest\n",
    "* Click create\n",
    "* Go to resources\n",
    "* Deployment>Deployment Center\n",
    "* Switch on Continuous deployment\n",
    "* Option 1: Source>Container Registry\n",
    "  + Go to overview, copy Default Domain to a browser to launch the app\n",
    "* Option 2: Source>Github Actions\n",
    "  + Authorize Github\n",
    "  + Select Account, repo and branch, Save\n",
    "  + Go to github account and check workflow yaml and deployment actions\n",
    "  + Copy default domain to a browser and launch app"
   ]
  },
  {
   "cell_type": "markdown",
   "metadata": {},
   "source": [
    "#### Summary of deployment steps:\n",
    "1. Build the Docker image of the Source Code\n",
    "2. Push the Docker image to Container Registry\n",
    "3. Launch the Web App Server in Azure\n",
    "4. Pull the Docker image from the container registry to Web App server and run"
   ]
  },
  {
   "cell_type": "markdown",
   "metadata": {},
   "source": [
    "## How to run the web application on local machine"
   ]
  },
  {
   "cell_type": "markdown",
   "metadata": {},
   "source": [
    "### Step 1: Clone the repository\n",
    "<p>https://github.com/OlumideOlumayegun/fire-image-classification.git</p>"
   ]
  },
  {
   "cell_type": "markdown",
   "metadata": {},
   "source": [
    "#### Step 2: Create a virtual environment after opening the repository\n",
    "```\n",
    "    $ python -m venv venv --prompt fire-image\n",
    "    $ venv\\Scripts\\activate    \n",
    "```"
   ]
  },
  {
   "cell_type": "markdown",
   "metadata": {},
   "source": [
    "#### Step 3: Install dependencies\n",
    "```\n",
    "$ python -m pip install -c constraints.txt .\n",
    "```\n",
    "<p># Finally run the following command</p>\n",
    "\n",
    "```\n",
    "$ python src\\fire_image_classifier\\app.py\n",
    "```\n",
    "<p># Now, open up you local host and port</p>\n",
    "<p>localhost:8080</p>"
   ]
  }
 ],
 "metadata": {
  "kernelspec": {
   "display_name": "base",
   "language": "python",
   "name": "python3"
  },
  "language_info": {
   "name": "python",
   "version": "3.11.5"
  }
 },
 "nbformat": 4,
 "nbformat_minor": 2
}
