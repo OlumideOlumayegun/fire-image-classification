{
 "cells": [
  {
   "cell_type": "markdown",
   "metadata": {},
   "source": [
    "Followed project template from \"End to end Deep Learning Project Implementation using MLOps Tool MLflow & DVC with CICD Deployment (Chest Cancer Clasification)\" - https://www.youtube.com/watch?v=-NOIWzjJK-4"
   ]
  },
  {
   "cell_type": "markdown",
   "metadata": {},
   "source": [
    "#### Initial set up\n",
    "+ Create github repo: fire-image-classification\n",
    "+ Clone repo into local machine\n",
    "+ Update template.py to create project folder structure\n",
    "+ Run `python template.py` to create the directories and files\n",
    "+ Add `venv`, `artifacts/*` and `note.ipynb` to .gitignore before git push to remote to avoid pushing large artifact dataset to github.\n",
    "+ Git add, commit and push origin main, do this at regular interval\n",
    "+ Set up logging in src/__init__.py file\n",
    "+ Create util functions in src/fire_image_classifier/utils/common.py file\t\n",
    "+ Set up and configure pyproject.toml for packaging and distribution\n",
    "+ Create and activate virtual environment and upgrade pip:\n",
    "```\n",
    "    $ python -m venv venv --prompt fire-image\n",
    "    $ venv\\Scripts\\activate\n",
    "    $ python -m pip install --upgrade pip\n",
    "```\n",
    "+ check installed packages: \n",
    "```\n",
    "    pip list –local (or pip freeze)\n",
    "```"
   ]
  }
 ],
 "metadata": {
  "kernelspec": {
   "display_name": "base",
   "language": "python",
   "name": "python3"
  },
  "language_info": {
   "name": "python",
   "version": "3.11.5"
  }
 },
 "nbformat": 4,
 "nbformat_minor": 2
}
