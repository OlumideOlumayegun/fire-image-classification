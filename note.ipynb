{
 "cells": [
  {
   "cell_type": "markdown",
   "metadata": {},
   "source": [
    "Followed project template from \"End to end Deep Learning Project Implementation using MLOps Tool MLflow & DVC with CICD Deployment (Chest Cancer Clasification)\" - https://www.youtube.com/watch?v=-NOIWzjJK-4"
   ]
  },
  {
   "cell_type": "markdown",
   "metadata": {},
   "source": [
    "## Initial set up\n",
    "+ Create github repo: fire-image-classification\n",
    "+ Clone repo into local machine\n",
    "+ Update template.py to create project folder structure\n",
    "+ Run `python template.py` to create the directories and files\n",
    "+ Add `venv`, `artifacts/*` and `note.ipynb` to .gitignore before git push to remote to avoid pushing large artifact dataset to github.\n",
    "+ Git add, commit and push origin main, do this at regular interval\n",
    "+ Set up logging in src/__init__.py file\n",
    "+ Create util functions in src/fire_image_classifier/utils/common.py file\t\n",
    "+ Set up and configure pyproject.toml for packaging and distribution\n",
    "+ Create and activate virtual environment and upgrade pip:\n",
    "```\n",
    "    $ python -m venv venv --prompt fire-image\n",
    "    $ venv\\Scripts\\activate\n",
    "    $ python -m pip install --upgrade pip\n",
    "```\n",
    "+ check installed packages: \n",
    "```\n",
    "    $ pip list –local (or pip freeze)\n",
    "```"
   ]
  },
  {
   "cell_type": "markdown",
   "metadata": {},
   "source": [
    "+ Installed package in editable mode and install dependencies\n",
    "```\n",
    "    $ python -m pip install --editable .\n",
    "```\n",
    "+ Feeze dependencies and version into contraints.txt, exclude editable package from the constraints file\n",
    "```\n",
    "    $ python -m pip freeze --exclude-editable > constraints.txt\n",
    "```\n",
    "\n"
   ]
  },
  {
   "cell_type": "markdown",
   "metadata": {},
   "source": [
    "## General workflow to follow at each stage:\n",
    "+ Update config.yaml\n",
    "+ Update secrets.yaml [Optional]\n",
    "+ Update params.yaml\n",
    "+ Update the entity\n",
    "+ Update the configuration manager in src config\n",
    "+ Update the components\n",
    "+ Update the pipeline\n",
    "+ Update the main.py\n",
    "+ Update the dvc.yaml"
   ]
  },
  {
   "cell_type": "markdown",
   "metadata": {},
   "source": [
    "## MLflow\n",
    "\n",
    "- [Documentation](https://mlflow.org/docs/latest/index.html)\n",
    "\n",
    "- [MLflow tutorial](https://youtube.com/playlist?list=PLkz_y24mlSJZrqiZ4_cLUiP0CBN5wFmTb&si=zEp_C8zLHt1DzWKK)\n",
    "\n",
    "##### cmd\n",
    "- mlflow ui\n",
    "\n",
    "## dagshub\n",
    "[dagshub](https://dagshub.com/)\n",
    "\n",
    "\n",
    "## DVC cmd\n",
    "\n",
    "1. dvc init\n",
    "2. dvc repro\n",
    "3. dvc dag\n",
    "\n",
    "## About MLflow & DVC\n",
    "\n",
    "MLflow\n",
    "\n",
    " - Its Production Grade\n",
    " - Trace all of your expriements\n",
    " - Logging & taging your model\n",
    "\n",
    "\n",
    "DVC \n",
    "\n",
    " - Its very lite weight for POC only\n",
    " - lite weight expriements tracker\n",
    " - It can perform Orchestration (Creating Pipelines)"
   ]
  },
  {
   "cell_type": "markdown",
   "metadata": {},
   "source": [
    "## Stage 1: Data ingestion\n",
    "+ Create and update research/01_data_ingestion.ipynb experiment notebook\n",
    "+ Update src/fire_image_classifier/conf/config.yaml file with data ingestion configuration\n",
    "+ Update entity (src/fire_image_classifier/entity/config_entity.py). Ignore sectret.yaml and params.yaml for now\n",
    "+ Update src/fire_image_classifier/constants/__init__.py with information about path to config.yaml and params.yaml files (put dummy key value in params.yaml)\n",
    "+ Update the configuration manager in /src/fire_image_classifier/config/configuration.py\n",
    "+ Update the data ingestion components (src/fire_image_classifier/components/data_ingestion.py)\n",
    "+ Update the pipeline (src/fire_image_classifier/pipeline/stage_01_data_ingestion.py)\n",
    "+ Update main.py\n",
    "+ Ignore updating dvc.yaml for now"
   ]
  }
 ],
 "metadata": {
  "kernelspec": {
   "display_name": "base",
   "language": "python",
   "name": "python3"
  },
  "language_info": {
   "name": "python",
   "version": "3.11.5"
  }
 },
 "nbformat": 4,
 "nbformat_minor": 2
}
