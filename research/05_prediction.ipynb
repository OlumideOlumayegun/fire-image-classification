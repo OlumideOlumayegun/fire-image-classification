{
 "cells": [
  {
   "cell_type": "code",
   "execution_count": 1,
   "metadata": {},
   "outputs": [],
   "source": [
    "import os"
   ]
  },
  {
   "cell_type": "code",
   "execution_count": 2,
   "metadata": {},
   "outputs": [
    {
     "data": {
      "text/plain": [
       "'c:\\\\Users\\\\midem\\\\fire-image-classification\\\\research'"
      ]
     },
     "execution_count": 2,
     "metadata": {},
     "output_type": "execute_result"
    }
   ],
   "source": [
    "%pwd"
   ]
  },
  {
   "cell_type": "code",
   "execution_count": 3,
   "metadata": {},
   "outputs": [],
   "source": [
    "os.chdir(\"../\")"
   ]
  },
  {
   "cell_type": "code",
   "execution_count": 4,
   "metadata": {},
   "outputs": [
    {
     "data": {
      "text/plain": [
       "'c:\\\\Users\\\\midem\\\\fire-image-classification'"
      ]
     },
     "execution_count": 4,
     "metadata": {},
     "output_type": "execute_result"
    }
   ],
   "source": [
    "%pwd"
   ]
  },
  {
   "cell_type": "code",
   "execution_count": 5,
   "metadata": {},
   "outputs": [],
   "source": [
    "import numpy as np\n",
    "from tensorflow.keras.models import load_model\n",
    "from tensorflow.keras.preprocessing import image\n",
    "import os"
   ]
  },
  {
   "cell_type": "code",
   "execution_count": 6,
   "metadata": {},
   "outputs": [],
   "source": [
    "class PredictionPipeline:\n",
    "    def __init__(self,filename):\n",
    "        self.filename =filename\n",
    "\n",
    "\n",
    "    \n",
    "    def predict(self):\n",
    "        ## load model\n",
    "        \n",
    "        model = load_model(os.path.join(\"artifacts\",\"training\", \"model.h5\"))\n",
    "        #model = load_model(os.path.join(\"model\", \"model.h5\"))\n",
    "\n",
    "        imagename = self.filename\n",
    "        #print(imagename)\n",
    "        test_image = image.load_img(imagename, target_size = (224,224))\n",
    "        \n",
    "        test_image = image.img_to_array(test_image)\n",
    "\n",
    "        #print(test_image[100,100,:])\n",
    "        \n",
    "        test_image = np.expand_dims(test_image, axis = 0)\n",
    "        \n",
    "        #print(test_image.shape)\n",
    "        #res = model.predict(test_image)\n",
    "        result = np.argmax(model.predict(test_image), axis=1)\n",
    "        print(result)\n",
    "        #print(res)\n",
    "\n",
    "        if result[0] == 0:\n",
    "            prediction = 'Fire'\n",
    "            return [{ \"image\" : prediction}]\n",
    "        else:\n",
    "            prediction = 'Not Fire'\n",
    "            return [{ \"image\" : prediction}]"
   ]
  },
  {
   "cell_type": "code",
   "execution_count": 7,
   "metadata": {},
   "outputs": [],
   "source": [
    "from pathlib import Path"
   ]
  },
  {
   "cell_type": "code",
   "execution_count": 16,
   "metadata": {},
   "outputs": [
    {
     "name": "stdout",
     "output_type": "stream",
     "text": [
      "1/1 [==============================] - 0s 203ms/step\n",
      "[0]\n",
      "[{'image': 'Fire'}]\n"
     ]
    }
   ],
   "source": [
    "pred = PredictionPipeline(\"artifacts/data_ingestion/fire_dataset/not_fire/5de237e8-6bad-11eb-af71-001583eb31c8.png\")\n",
    "result = pred.predict()\n",
    "print(result)"
   ]
  },
  {
   "cell_type": "code",
   "execution_count": null,
   "metadata": {},
   "outputs": [],
   "source": []
  }
 ],
 "metadata": {
  "kernelspec": {
   "display_name": "venv",
   "language": "python",
   "name": "python3"
  },
  "language_info": {
   "codemirror_mode": {
    "name": "ipython",
    "version": 3
   },
   "file_extension": ".py",
   "mimetype": "text/x-python",
   "name": "python",
   "nbconvert_exporter": "python",
   "pygments_lexer": "ipython3",
   "version": "3.11.5"
  }
 },
 "nbformat": 4,
 "nbformat_minor": 2
}
