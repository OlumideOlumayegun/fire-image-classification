{
 "cells": [
  {
   "cell_type": "code",
   "execution_count": 1,
   "metadata": {},
   "outputs": [],
   "source": [
    "import os"
   ]
  },
  {
   "cell_type": "code",
   "execution_count": 2,
   "metadata": {},
   "outputs": [
    {
     "data": {
      "text/plain": [
       "'c:\\\\Users\\\\midem\\\\ai-generated-image-detector\\\\research'"
      ]
     },
     "execution_count": 2,
     "metadata": {},
     "output_type": "execute_result"
    }
   ],
   "source": [
    "%pwd"
   ]
  },
  {
   "cell_type": "code",
   "execution_count": 3,
   "metadata": {},
   "outputs": [],
   "source": [
    "os.chdir(\"../\")"
   ]
  },
  {
   "cell_type": "code",
   "execution_count": 4,
   "metadata": {},
   "outputs": [
    {
     "data": {
      "text/plain": [
       "'c:\\\\Users\\\\midem\\\\ai-generated-image-detector'"
      ]
     },
     "execution_count": 4,
     "metadata": {},
     "output_type": "execute_result"
    }
   ],
   "source": [
    "%pwd"
   ]
  },
  {
   "cell_type": "code",
   "execution_count": 5,
   "metadata": {},
   "outputs": [],
   "source": [
    "import numpy as np\n",
    "from tensorflow.keras.models import load_model\n",
    "from tensorflow.keras.preprocessing import image\n",
    "import os"
   ]
  },
  {
   "cell_type": "code",
   "execution_count": 7,
   "metadata": {},
   "outputs": [],
   "source": [
    "class PredictionPipeline:\n",
    "    def __init__(self,filename):\n",
    "        self.filename =filename\n",
    "\n",
    "\n",
    "    \n",
    "    def predict(self):\n",
    "        ## load model\n",
    "        \n",
    "        #model = load_model(os.path.join(\"artifacts\",\"training\", \"model.h5\"))\n",
    "        model = load_model(os.path.join(\"model\", \"model.h5\"))\n",
    "\n",
    "        imagename = self.filename\n",
    "        #print(imagename)\n",
    "        test_image = image.load_img(imagename, target_size = (224,224))\n",
    "        \n",
    "        test_image = image.img_to_array(test_image)\n",
    "\n",
    "        #print(test_image[100,100,:])\n",
    "        \n",
    "        test_image = np.expand_dims(test_image, axis = 0)\n",
    "        \n",
    "        #print(test_image.shape)\n",
    "        #res = model.predict(test_image)\n",
    "        result = np.argmax(model.predict(test_image), axis=1)\n",
    "        print(result)\n",
    "        #print(res)\n",
    "\n",
    "        if result[0] == 0:\n",
    "            prediction = 'Fake'\n",
    "            return [{ \"image\" : prediction}]\n",
    "        else:\n",
    "            prediction = 'Real'\n",
    "            return [{ \"image\" : prediction}]"
   ]
  },
  {
   "cell_type": "code",
   "execution_count": 10,
   "metadata": {},
   "outputs": [],
   "source": [
    "from pathlib import Path"
   ]
  },
  {
   "cell_type": "code",
   "execution_count": 13,
   "metadata": {},
   "outputs": [
    {
     "name": "stdout",
     "output_type": "stream",
     "text": [
      "1/1 [==============================] - 0s 251ms/step\n",
      "[0]\n"
     ]
    }
   ],
   "source": [
    "pred = PredictionPipeline(\"artifacts/data_ingestion/real-vs-ai-generated/train/FAKE/1000 (6).jpg\")\n",
    "result = pred.predict()"
   ]
  },
  {
   "cell_type": "code",
   "execution_count": null,
   "metadata": {},
   "outputs": [],
   "source": []
  }
 ],
 "metadata": {
  "kernelspec": {
   "display_name": "real_vs_ai",
   "language": "python",
   "name": "python3"
  },
  "language_info": {
   "codemirror_mode": {
    "name": "ipython",
    "version": 3
   },
   "file_extension": ".py",
   "mimetype": "text/x-python",
   "name": "python",
   "nbconvert_exporter": "python",
   "pygments_lexer": "ipython3",
   "version": "3.10.16"
  }
 },
 "nbformat": 4,
 "nbformat_minor": 2
}
